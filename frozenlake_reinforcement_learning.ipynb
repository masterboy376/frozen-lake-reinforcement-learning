{
  "nbformat": 4,
  "nbformat_minor": 0,
  "metadata": {
    "colab": {
      "provenance": []
    },
    "kernelspec": {
      "name": "python3",
      "display_name": "Python 3"
    },
    "language_info": {
      "name": "python"
    }
  },
  "cells": [
    {
      "cell_type": "code",
      "source": [
        "# necessary imports\n",
        "import numpy as np\n",
        "import gym\n",
        "import random\n",
        "import time\n",
        "from IPython.display import clear_output"
      ],
      "metadata": {
        "id": "7pxa4wxhTiDq"
      },
      "execution_count": null,
      "outputs": []
    },
    {
      "cell_type": "code",
      "source": [
        "# creating environment\n",
        "env = gym.make(\"FrozenLake-v1\")"
      ],
      "metadata": {
        "id": "5dYIftqjT0Vi"
      },
      "execution_count": null,
      "outputs": []
    },
    {
      "cell_type": "code",
      "source": [
        "# initializing q-table\n",
        "action_space_size = env.action_space.n\n",
        "state_space_size = env.observation_space.n\n",
        "\n",
        "q_table = np.zeros((state_space_size, action_space_size))\n",
        "print(q_table)"
      ],
      "metadata": {
        "colab": {
          "base_uri": "https://localhost:8080/"
        },
        "id": "5A3hal5rUE-L",
        "outputId": "46cb1b21-c335-4c30-aa34-1783f2fc9a05"
      },
      "execution_count": null,
      "outputs": [
        {
          "output_type": "stream",
          "name": "stdout",
          "text": [
            "[[0. 0. 0. 0.]\n",
            " [0. 0. 0. 0.]\n",
            " [0. 0. 0. 0.]\n",
            " [0. 0. 0. 0.]\n",
            " [0. 0. 0. 0.]\n",
            " [0. 0. 0. 0.]\n",
            " [0. 0. 0. 0.]\n",
            " [0. 0. 0. 0.]\n",
            " [0. 0. 0. 0.]\n",
            " [0. 0. 0. 0.]\n",
            " [0. 0. 0. 0.]\n",
            " [0. 0. 0. 0.]\n",
            " [0. 0. 0. 0.]\n",
            " [0. 0. 0. 0.]\n",
            " [0. 0. 0. 0.]\n",
            " [0. 0. 0. 0.]]\n"
          ]
        }
      ]
    },
    {
      "cell_type": "code",
      "source": [
        "# initializing all parameteters\n",
        "num_episodes = 10000\n",
        "max_steps_per_episode = 100\n",
        "\n",
        "learning_rate = 0.1\n",
        "discount_rate = 0.99\n",
        "\n",
        "exploration_rate = 1\n",
        "max_exploration_rate = 1\n",
        "min_exploration_rate = 0.01\n",
        "exploration_decay_rate = 0.001"
      ],
      "metadata": {
        "id": "kaMrwZUgUkq5"
      },
      "execution_count": null,
      "outputs": []
    },
    {
      "cell_type": "code",
      "source": [
        "# algorithm implementaion\n",
        "rewards_all_episodes = []\n",
        "\n",
        "# Q-learning algorithm\n",
        "for episode in range(num_episodes):\n",
        "  state = env.reset()\n",
        "\n",
        "  done = False\n",
        "  rewards_current_episode = 0\n",
        "\n",
        "  for step in range(max_steps_per_episode):\n",
        "\n",
        "    # exploration-exploitation trade-off\n",
        "    exploration_rate_threshold = random.uniform(0,1)\n",
        "    if exploration_rate_threshold > exploration_rate:\n",
        "      action = np.argmax(q_table[state,:])\n",
        "    else:\n",
        "      action = env.action_space.sample()\n",
        "    \n",
        "    new_state, reward, done, info = env.step(action)\n",
        "\n",
        "    # update Q-table for Q(s,a)\n",
        "    q_table[state, action] = q_table[state, action]*(1-learning_rate) + learning_rate*(reward + discount_rate*np.max(q_table[new_state,:]))\n",
        "\n",
        "    state = new_state\n",
        "    rewards_current_episode += reward\n",
        "\n",
        "    if done == True:\n",
        "      break\n",
        "  \n",
        "  # exploration rate decay\n",
        "  exploration_rate = min_exploration_rate + (max_exploration_rate - min_exploration_rate)*np.exp(-exploration_decay_rate*episode)\n",
        "\n",
        "  rewards_all_episodes.append(rewards_current_episode)"
      ],
      "metadata": {
        "id": "mh5sghiYV8Qf"
      },
      "execution_count": null,
      "outputs": []
    },
    {
      "cell_type": "code",
      "source": [
        "# calculate and print the average reward per thousand episodes\n",
        "count = 1000\n",
        "rewards_per_thousand_episodes = np.split(np.array(rewards_all_episodes), num_episodes/count)\n",
        "print(\"*****Average reward per thausand episodes*****\\n\")\n",
        "for r in rewards_per_thousand_episodes:\n",
        "  print(count, \":\", str(sum(r/1000)))\n",
        "  count+=1000;"
      ],
      "metadata": {
        "colab": {
          "base_uri": "https://localhost:8080/"
        },
        "id": "6dtomrU2bWoN",
        "outputId": "bfcb166b-a8d9-4ffe-b08e-989034fca35c"
      },
      "execution_count": null,
      "outputs": [
        {
          "output_type": "stream",
          "name": "stdout",
          "text": [
            "*****Average reward per thausand episodes*****\n",
            "\n",
            "1000 : 0.04500000000000003\n",
            "2000 : 0.21900000000000017\n",
            "3000 : 0.35900000000000026\n",
            "4000 : 0.5870000000000004\n",
            "5000 : 0.6200000000000004\n",
            "6000 : 0.6710000000000005\n",
            "7000 : 0.6860000000000005\n",
            "8000 : 0.6860000000000005\n",
            "9000 : 0.6740000000000005\n",
            "10000 : 0.6680000000000005\n"
          ]
        }
      ]
    },
    {
      "cell_type": "code",
      "source": [
        "# print q_table\n",
        "print(\"\\n\\n*****Q-table*****\\n\\n\")\n",
        "print(q_table)"
      ],
      "metadata": {
        "colab": {
          "base_uri": "https://localhost:8080/"
        },
        "id": "0oHWJD6Ia7n0",
        "outputId": "bd72dd92-60ac-44b1-ad61-13b5450b94d3"
      },
      "execution_count": null,
      "outputs": [
        {
          "output_type": "stream",
          "name": "stdout",
          "text": [
            "\n",
            "\n",
            "*****Q-table*****\n",
            "\n",
            "\n",
            "[[0.47129797 0.47054587 0.47101052 0.46897604]\n",
            " [0.24535199 0.3448077  0.27037403 0.45323587]\n",
            " [0.39779092 0.41080704 0.3843316  0.44148571]\n",
            " [0.32367197 0.26110743 0.32741901 0.42588539]\n",
            " [0.48096943 0.38581093 0.31124659 0.27705927]\n",
            " [0.         0.         0.         0.        ]\n",
            " [0.36638427 0.13140013 0.23177526 0.15131954]\n",
            " [0.         0.         0.         0.        ]\n",
            " [0.23945653 0.34903785 0.37801906 0.51422176]\n",
            " [0.45397282 0.57431574 0.48163758 0.5020686 ]\n",
            " [0.61151512 0.43678207 0.29483756 0.27663104]\n",
            " [0.         0.         0.         0.        ]\n",
            " [0.         0.         0.         0.        ]\n",
            " [0.34654315 0.44981361 0.69187042 0.45060853]\n",
            " [0.76169411 0.88690919 0.78480179 0.78219928]\n",
            " [0.         0.         0.         0.        ]]\n"
          ]
        }
      ]
    },
    {
      "cell_type": "code",
      "source": [
        "# playing the game\n",
        "import os\n",
        "import gym\n",
        "os.environ[\"SDL_VIDEODRIVER\"] = \"dummy\"\n",
        "env = gym.make(\"FrozenLake-v1\")\n",
        "\n",
        "for episode in range(3):\n",
        "  state = env.reset()\n",
        "  done = False\n",
        "  print(\"--EPISODE:\", episode+1,\"--\\n\")\n",
        "  time.sleep(1)\n",
        "\n",
        "  for step in range(max_steps_per_episode):\n",
        "    clear_output(wait=True)\n",
        "    env.render()\n",
        "    time.sleep(0.3)\n",
        "\n",
        "    action=np.argmax(q_table[state,:])\n",
        "    new_state, reward, done, info = env.step(action)\n",
        "\n",
        "    if done:\n",
        "      clear_output(wait=True)\n",
        "      env.render()\n",
        "      if reward == 1:\n",
        "        print(\"You reached the goal\")\n",
        "        time.sleep(3)\n",
        "      else:\n",
        "        print(\"you fell through hole\")\n",
        "        time.sleep(3)\n",
        "      clear_output(wait=True)\n",
        "      break\n",
        "\n",
        "    state=new_state\n",
        "\n",
        "env.close()"
      ],
      "metadata": {
        "colab": {
          "base_uri": "https://localhost:8080/"
        },
        "id": "Va3jy95uyvys",
        "outputId": "b046dd6c-021a-4d2c-b36e-34ffb47fc9a0"
      },
      "execution_count": null,
      "outputs": [
        {
          "output_type": "stream",
          "name": "stdout",
          "text": [
            "You reached the goal\n"
          ]
        }
      ]
    }
  ]
}